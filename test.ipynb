{
 "cells": [
  {
   "cell_type": "code",
   "execution_count": 1,
   "metadata": {
    "collapsed": false
   },
   "outputs": [
    {
     "data": {
      "text/plain": [
       "_randperm2d! (generic function with 1 method)"
      ]
     },
     "execution_count": 1,
     "metadata": {},
     "output_type": "execute_result"
    }
   ],
   "source": [
    "include(\"matching_tools.jl\")"
   ]
  },
  {
   "cell_type": "code",
   "execution_count": 2,
   "metadata": {
    "collapsed": false
   },
   "outputs": [
    {
     "data": {
      "text/plain": [
       "deferred_acceptance (generic function with 1 method)"
      ]
     },
     "execution_count": 2,
     "metadata": {},
     "output_type": "execute_result"
    }
   ],
   "source": [
    "include(\"deferred_acceptance.jl\")"
   ]
  },
  {
   "cell_type": "code",
   "execution_count": 7,
   "metadata": {
    "collapsed": false
   },
   "outputs": [
    {
     "data": {
      "text/plain": [
       "(\n",
       "4x20 Array{Int64,2}:\n",
       " 1  3  1  3  3  3  2  2  3  3  1  2  3  2  1  2  2  3  3  1\n",
       " 3  2  3  1  0  0  3  1  1  0  3  3  2  0  0  1  0  1  0  2\n",
       " 2  0  0  0  2  2  1  3  2  1  2  1  0  3  2  0  3  2  1  3\n",
       " 0  1  2  2  1  1  0  0  0  2  0  0  1  1  3  3  1  0  2  0,\n",
       "\n",
       "21x3 Array{Int64,2}:\n",
       "  6  12   9\n",
       "  8  14  10\n",
       " 16  15   6\n",
       "  9   4   3\n",
       " 14   7   0\n",
       " 12  13   8\n",
       "  4   3  16\n",
       " 17   0   4\n",
       "  1  11  14\n",
       "  7   2  18\n",
       " 15  17  20\n",
       " 13  18  19\n",
       "  5   8   2\n",
       "  2  16  17\n",
       " 10   9   1\n",
       "  3  20   5\n",
       " 19  19   7\n",
       "  0  10  12\n",
       " 11   6  13\n",
       " 18   1  11\n",
       " 20   5  15,\n",
       "\n",
       "[10,4,4])"
      ]
     },
     "execution_count": 7,
     "metadata": {},
     "output_type": "execute_result"
    }
   ],
   "source": [
    "prop_prefs, resp_prefs, caps= random_prefs(20, 3, ReturnCaps)"
   ]
  },
  {
   "cell_type": "code",
   "execution_count": 8,
   "metadata": {
    "collapsed": false
   },
   "outputs": [
    {
     "data": {
      "text/plain": [
       "([1,0,1,1,0,3,2,1,3,3,0,2,2,2,1,1,0,0,0,0],[1,3,15,4,8,16,0,0,0,0,7,12,14,13,6,9,10,0],[1,11,15,19])"
      ]
     },
     "execution_count": 8,
     "metadata": {},
     "output_type": "execute_result"
    }
   ],
   "source": [
    "deferred_acceptance(prop_prefs, resp_prefs, caps)"
   ]
  },
  {
   "cell_type": "code",
   "execution_count": 10,
   "metadata": {
    "collapsed": false
   },
   "outputs": [
    {
     "name": "stdout",
     "output_type": "stream",
     "text": [
      "deferred_acceptance: one-to-one: Error During Test\n",
      "  Got an exception of type MethodError outside of a @test\n",
      "  MethodError: `deferred_acceptance` has no method matching deferred_acceptance(::Array{Int64,2}, ::Array{Int64,2})\n",
      "  Closest candidates are:\n",
      "    deferred_acceptance(::Any, ::Any, !Matched::Any)\n",
      "   [inlined code] from C:\\Users\\聡\\Documents\\matching2.jl\\test_deferred_acceptance.jl:37\n",
      "   in anonymous at no file:0\n",
      "   in include at boot.jl:261\n",
      "   in include_from_node1 at loading.jl:320\n",
      "   in include_string at loading.jl:282\n",
      "   in execute_request_0x535c5df2 at C:\\Users\\聡\\.julia\\v0.4\\IJulia\\src\\execute_request.jl:183\n",
      "   in eventloop at C:\\Users\\聡\\.julia\\v0.4\\IJulia\\src\\IJulia.jl:143\n",
      "   in anonymous at task.jl:447\n",
      "deferred_acceptance: many-to-one with caps 1: Error During Test\n",
      "  Got an exception of type BoundsError outside of a @test\n",
      "  BoundsError: attempt to access 1-element Array{Int64,1}:\n",
      "   3\n",
      "    at index [3]\n",
      "   in setindex! at array.jl:314\n",
      "   in deferred_acceptance at C:\\Users\\聡\\Documents\\matching2.jl\\deferred_acceptance.jl:43\n",
      "   [inlined code] from C:\\Users\\聡\\Documents\\matching2.jl\\test_deferred_acceptance.jl:69\n",
      "   in anonymous at no file:0\n",
      "   in include at boot.jl:261\n",
      "   in include_from_node1 at loading.jl:320\n",
      "   in include_string at loading.jl:282\n",
      "   in execute_request_0x535c5df2 at C:\\Users\\聡\\.julia\\v0.4\\IJulia\\src\\execute_request.jl:183\n",
      "   in eventloop at C:\\Users\\聡\\.julia\\v0.4\\IJulia\\src\\IJulia.jl:143\n",
      "   in anonymous at task.jl:447\n",
      "deferred_acceptance: many-to-one: Error During Test\n",
      "  Got an exception of type BoundsError outside of a @test\n",
      "  BoundsError: attempt to access 2-element Array{Int64,1}:\n",
      "   3\n",
      "   6\n",
      "    at index [6]\n",
      "   in setindex! at array.jl:314\n",
      "   in deferred_acceptance at C:\\Users\\聡\\Documents\\matching2.jl\\deferred_acceptance.jl:43\n",
      "   [inlined code] from C:\\Users\\聡\\Documents\\matching2.jl\\test_deferred_acceptance.jl:115\n",
      "   in anonymous at no file:0\n",
      "   in include at boot.jl:261\n",
      "   in include_from_node1 at loading.jl:320\n",
      "   in include_string at loading.jl:282\n",
      "   in execute_request_0x535c5df2 at C:\\Users\\聡\\.julia\\v0.4\\IJulia\\src\\execute_request.jl:183\n",
      "   in eventloop at C:\\Users\\聡\\.julia\\v0.4\\IJulia\\src\\IJulia.jl:143\n",
      "   in anonymous at task.jl:447\n",
      "Test Summary:                                  | Error  Total\n",
      "Testing deferred_acceptance.jl                 |     3      3\n",
      "  deferred_acceptance: one-to-one              |     1      1\n",
      "  deferred_acceptance: many-to-one with caps 1 |     1      1\n",
      "  deferred_acceptance: many-to-one             |     1      1\n"
     ]
    },
    {
     "name": "stderr",
     "output_type": "stream",
     "text": [
      "WARNING: redefining constant file_name\n",
      "WARNING: redefining constant function_name\n"
     ]
    },
    {
     "ename": "LoadError",
     "evalue": "LoadError: LoadError: Some tests did not pass: 0 passed, 0 failed, 3 errored.\nwhile loading C:\\Users\\聡\\Documents\\matching2.jl\\test_deferred_acceptance.jl, in expression starting on line 17\nwhile loading In[10], in expression starting on line 1",
     "output_type": "error",
     "traceback": [
      "LoadError: LoadError: Some tests did not pass: 0 passed, 0 failed, 3 errored.\nwhile loading C:\\Users\\聡\\Documents\\matching2.jl\\test_deferred_acceptance.jl, in expression starting on line 17\nwhile loading In[10], in expression starting on line 1",
      "",
      " in finish at C:\\Users\\聡\\.julia\\v0.4\\BaseTestNext\\src\\BaseTestNext.jl:385",
      " [inlined code] from C:\\Users\\聡\\.julia\\v0.4\\BaseTestNext\\src\\BaseTestNext.jl:559",
      " in anonymous at no file:0",
      " in include at boot.jl:261",
      " in include_from_node1 at loading.jl:320"
     ]
    }
   ],
   "source": [
    "include(\"test_deferred_acceptance.jl\")"
   ]
  },
  {
   "cell_type": "code",
   "execution_count": null,
   "metadata": {
    "collapsed": true
   },
   "outputs": [],
   "source": []
  }
 ],
 "metadata": {
  "kernelspec": {
   "display_name": "Julia 0.4.6",
   "language": "julia",
   "name": "julia-0.4"
  },
  "language_info": {
   "file_extension": ".jl",
   "mimetype": "application/julia",
   "name": "julia",
   "version": "0.4.6"
  }
 },
 "nbformat": 4,
 "nbformat_minor": 0
}
