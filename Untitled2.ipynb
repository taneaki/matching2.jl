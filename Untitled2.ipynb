{
 "cells": [
  {
   "cell_type": "code",
   "execution_count": 1,
   "metadata": {
    "collapsed": false
   },
   "outputs": [
    {
     "data": {
      "text/plain": [
       "deferred_acceptance (generic function with 1 method)"
      ]
     },
     "execution_count": 1,
     "metadata": {},
     "output_type": "execute_result"
    }
   ],
   "source": [
    "function deferred_acceptance(prop_prefs, resp_prefs, caps)\n",
    "    prop_size = size(prop_prefs, 2)\n",
    "    resp_size = size(resp_prefs, 2)\n",
    "    prop_matched = zeros(Int64, prop_size)\n",
    "    resp_matched_base = Int[]\n",
    "    next_prop = zeros(Int64, prop_size)\n",
    "    max_prop = Int64[]\n",
    "    \n",
    "    for m in 1:prop_size\n",
    "        push!(max_prop, find(prop_prefs[:, m] .== 0)[1]-1)\n",
    "    end\n",
    "\n",
    "    for i in 1:length(caps)\n",
    "        resp_matched_base = vcat(resp_matched_base, {zeros(Int, caps[i])})\n",
    "    end\n",
    "    \n",
    "    indptr = Array(Int, resp_size+1)\n",
    "    indptr[1] = 1\n",
    "    for i in 1:resp_size\n",
    "    indptr[i+1] = indptr[i] + caps[i]\n",
    "    end\n",
    "    \n",
    "    while any(prop_matched .== 0) == true\n",
    "        prop_single = find(prop_matched .== 0)\n",
    "        if all(next_prop[prop_single] .>= max_prop[prop_single]) == true\n",
    "            break\n",
    "        else\n",
    "            for each_prop_single in prop_single\n",
    "                proposing = prop_prefs[next_prop[each_prop_single]+1, each_prop_single]\n",
    "                if proposing != 0\n",
    "                   next_prop[each_prop_single] = next_prop[each_prop_single]+1\n",
    "                    if any((resp_matched_base[proposing]) .== 0) == true && (find(resp_prefs[:, proposing] .==each_prop_single) .<  find(resp_prefs[:, proposing] .==0)) == [true]\n",
    "                        prop_matched[each_prop_single] = proposing\n",
    "                        resp_matched_base[proposing][findfirst(resp_matched_base[proposing].==0)] = each_prop_single\n",
    "                        elseif resp_matched_base[proposing] != 0 \n",
    "                        k = Int[]\n",
    "                        for j in 1:length(resp_matched_base[proposing])\n",
    "                            k = vcat(k, find(resp_prefs[:, proposing] .== resp_matched_base[proposing][j]))\n",
    "                        end\n",
    "                        if ((find(resp_prefs[:, proposing] .==each_prop_single)) .< findmax(k)[1]) == [true]\n",
    "                            prop_matched[each_prop_single] = proposing\n",
    "                            prop_matched[resp_matched_base[proposing][findmax(k)[2]]] = 0\n",
    "                            resp_matched_base[proposing][resp_matched_base[proposing][findmax(k)[2]]] = each_prop_single\n",
    "                        end\n",
    "                    end\n",
    "                end\n",
    "            end\n",
    "        end\n",
    "    end\n",
    "    resp_matched = Int[]\n",
    "    for l in 1:resp_size\n",
    "        resp_matched = append!(resp_matched, resp_matched_base[l])\n",
    "    end\n",
    "    return prop_matched, resp_matched,indptr\n",
    "end"
   ]
  },
  {
   "cell_type": "code",
   "execution_count": 2,
   "metadata": {
    "collapsed": false
   },
   "outputs": [
    {
     "data": {
      "text/plain": [
       "_randperm2d! (generic function with 1 method)"
      ]
     },
     "execution_count": 2,
     "metadata": {},
     "output_type": "execute_result"
    }
   ],
   "source": [
    "include(\"matching_tools.jl\")"
   ]
  },
  {
   "cell_type": "code",
   "execution_count": 35,
   "metadata": {
    "collapsed": false
   },
   "outputs": [
    {
     "data": {
      "text/plain": [
       "(\n",
       "4x12 Array{Int64,2}:\n",
       " 1  3  3  2  1  2  3  3  2  2  1  1\n",
       " 0  2  2  3  2  1  2  0  3  0  2  0\n",
       " 2  1  1  1  3  3  1  1  1  3  0  3\n",
       " 3  0  0  0  0  0  0  2  0  1  3  2,\n",
       "\n",
       "13x3 Array{Int64,2}:\n",
       "  7   7   6\n",
       "  3  12   9\n",
       " 11   5   5\n",
       "  2   0   3\n",
       "  0   8  12\n",
       "  9   3   0\n",
       " 12   4   7\n",
       " 10   2  11\n",
       "  6   6   8\n",
       "  1  11   1\n",
       "  8   1   4\n",
       "  5   9   2\n",
       "  4  10  10,\n",
       "\n",
       "[3,4,6])"
      ]
     },
     "execution_count": 35,
     "metadata": {},
     "output_type": "execute_result"
    }
   ],
   "source": [
    "prop_prefs, resp_prefs, caps= random_prefs(12, 3, ReturnCaps)"
   ]
  },
  {
   "cell_type": "code",
   "execution_count": 36,
   "metadata": {
    "collapsed": false
   },
   "outputs": [
    {
     "data": {
      "text/plain": [
       "([0,1,3,0,2,3,2,0,3,0,1,0],[11,2,0,5,7,0,0,3,9,6,0,0,0],[1,4,8,14])"
      ]
     },
     "execution_count": 36,
     "metadata": {},
     "output_type": "execute_result"
    }
   ],
   "source": [
    "deferred_acceptance(prop_prefs, resp_prefs, caps)"
   ]
  },
  {
   "cell_type": "code",
   "execution_count": 5,
   "metadata": {
    "collapsed": false
   },
   "outputs": [
    {
     "data": {
      "text/plain": [
       "2x3 Array{Int64,2}:\n",
       " 1  3  5\n",
       " 2  4  6"
      ]
     },
     "execution_count": 5,
     "metadata": {},
     "output_type": "execute_result"
    }
   ],
   "source": [
    "r = [[1,2] [3,4] [5,6]]"
   ]
  },
  {
   "cell_type": "code",
   "execution_count": null,
   "metadata": {
    "collapsed": true
   },
   "outputs": [],
   "source": []
  }
 ],
 "metadata": {
  "kernelspec": {
   "display_name": "Julia 0.4.6",
   "language": "julia",
   "name": "julia-0.4"
  },
  "language_info": {
   "file_extension": ".jl",
   "mimetype": "application/julia",
   "name": "julia",
   "version": "0.4.6"
  }
 },
 "nbformat": 4,
 "nbformat_minor": 0
}
