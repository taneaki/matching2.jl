{
 "cells": [
  {
   "cell_type": "code",
   "execution_count": 12,
   "metadata": {
    "collapsed": false
   },
   "outputs": [
    {
     "data": {
      "text/plain": [
       "deferred_acceptance (generic function with 1 method)"
      ]
     },
     "execution_count": 12,
     "metadata": {},
     "output_type": "execute_result"
    }
   ],
   "source": [
    "include(\"deferred_acceptance.jl\")"
   ]
  },
  {
   "cell_type": "code",
   "execution_count": 13,
   "metadata": {
    "collapsed": false
   },
   "outputs": [
    {
     "data": {
      "text/plain": [
       "_randperm2d! (generic function with 1 method)"
      ]
     },
     "execution_count": 13,
     "metadata": {},
     "output_type": "execute_result"
    }
   ],
   "source": [
    "include(\"matching_tools.jl\")"
   ]
  },
  {
   "cell_type": "code",
   "execution_count": 24,
   "metadata": {
    "collapsed": false
   },
   "outputs": [
    {
     "data": {
      "text/plain": [
       "6x11 Array{Int64,2}:\n",
       " 3  1  4  3  1  4  2  1  4  3  5\n",
       " 1  3  5  4  4  3  5  3  1  1  4\n",
       " 5  4  3  1  2  2  1  2  5  5  1\n",
       " 4  2  1  5  0  1  3  5  0  2  3\n",
       " 0  5  2  0  3  5  0  4  2  4  2\n",
       " 2  0  0  2  5  0  4  0  3  0  0"
      ]
     },
     "execution_count": 24,
     "metadata": {},
     "output_type": "execute_result"
    }
   ],
   "source": [
    "m_prefs = [3, 1, 5, 4, 0, 2,\n",
    "                   1, 3, 4, 2, 5, 0,\n",
    "                   4, 5, 3, 1, 2, 0,\n",
    "                   3, 4, 1, 5, 0, 2,\n",
    "                   1, 4, 2, 0, 3, 5,\n",
    "                   4, 3, 2, 1, 5, 0,\n",
    "                   2, 5, 1, 3, 0, 4,\n",
    "                   1, 3, 2, 5, 4, 0,\n",
    "                   4, 1, 5, 0, 2, 3,\n",
    "                   3, 1, 5, 2, 4, 0,\n",
    "                   5, 4, 1, 3, 2, 0]\n",
    "        m_prefs = reshape(m_prefs, 6, 11)"
   ]
  },
  {
   "cell_type": "code",
   "execution_count": 25,
   "metadata": {
    "collapsed": false
   },
   "outputs": [
    {
     "data": {
      "text/plain": [
       "12x5 Array{Int64,2}:\n",
       "  3   5  11  10   2\n",
       "  7   7   6   1   4\n",
       "  9  10   8   2  10\n",
       " 11   6   3  11   7\n",
       "  5   8   2   4   6\n",
       "  4   2   4   9   1\n",
       " 10   3   7   5   8\n",
       "  8  11   1   3   3\n",
       "  6   0  10   6  11\n",
       "  1   1   0   8   9\n",
       "  2   4   5   0   0\n",
       "  0   9   9   7   5"
      ]
     },
     "execution_count": 25,
     "metadata": {},
     "output_type": "execute_result"
    }
   ],
   "source": [
    "f_prefs = [3, 7, 9, 11, 5, 4, 10, 8, 6, 1,\n",
    "                   2, 0, 5, 7, 10, 6, 8, 2, 3, 11,\n",
    "                   0, 1, 4, 9, 11, 6, 8, 3, 2, 4,\n",
    "                   7, 1, 10, 0, 5, 9, 10, 1, 2, 11,\n",
    "                   4, 9, 5, 3, 6, 8, 0, 7, 2, 4,\n",
    "                   10, 7, 6, 1, 8, 3, 11, 9, 0, 5]\n",
    "f_prefs = reshape(f_prefs, 12, 5)"
   ]
  },
  {
   "cell_type": "code",
   "execution_count": 26,
   "metadata": {
    "collapsed": false
   },
   "outputs": [
    {
     "data": {
      "text/plain": [
       "5-element Array{Int64,1}:\n",
       " 4\n",
       " 1\n",
       " 3\n",
       " 2\n",
       " 1"
      ]
     },
     "execution_count": 26,
     "metadata": {},
     "output_type": "execute_result"
    }
   ],
   "source": [
    "caps = [4, 1, 3, 2, 1]"
   ]
  },
  {
   "cell_type": "code",
   "execution_count": 27,
   "metadata": {
    "collapsed": false
   },
   "outputs": [
    {
     "ename": "LoadError",
     "evalue": "LoadError: BoundsError: attempt to access 2-element Array{Int64,1}:\n 3\n 6\n  at index [6]\nwhile loading In[27], in expression starting on line 1",
     "output_type": "error",
     "traceback": [
      "LoadError: BoundsError: attempt to access 2-element Array{Int64,1}:\n 3\n 6\n  at index [6]\nwhile loading In[27], in expression starting on line 1",
      ""
     ]
    }
   ],
   "source": [
    "deferred_acceptance(m_prefs, f_prefs, caps)"
   ]
  },
  {
   "cell_type": "code",
   "execution_count": 9,
   "metadata": {
    "collapsed": false
   },
   "outputs": [
    {
     "data": {
      "text/plain": [
       "(\n",
       "4x10 Array{Int64,2}:\n",
       " 3  1  1  2  3  3  2  2  3  3\n",
       " 1  3  2  3  1  2  0  0  0  1\n",
       " 0  0  3  1  0  1  3  3  1  0\n",
       " 2  2  0  0  2  0  1  1  2  2,\n",
       "\n",
       "11x3 Array{Int64,2}:\n",
       "  4   9   8\n",
       "  8   8  10\n",
       "  1   6   3\n",
       "  0   2   9\n",
       "  5   5   0\n",
       "  7   4   5\n",
       " 10   1   6\n",
       "  9  10   1\n",
       "  2   7   2\n",
       "  3   3   7\n",
       "  6   0   4,\n",
       "\n",
       "[3,4,5])"
      ]
     },
     "execution_count": 9,
     "metadata": {},
     "output_type": "execute_result"
    }
   ],
   "source": [
    "m_prefs, f_prefs, caps = random_prefs(10, 3, ReturnCaps)"
   ]
  },
  {
   "cell_type": "code",
   "execution_count": 10,
   "metadata": {
    "collapsed": false
   },
   "outputs": [
    {
     "data": {
      "text/plain": [
       "([1,0,3,2,0,2,2,2,3,3],Any[[1,0,0],[4,7,6,3],[9,10,3,0,0]])"
      ]
     },
     "execution_count": 10,
     "metadata": {},
     "output_type": "execute_result"
    }
   ],
   "source": [
    "deferred_acceptance(m_prefs, f_prefs, caps)"
   ]
  },
  {
   "cell_type": "code",
   "execution_count": 11,
   "metadata": {
    "collapsed": false
   },
   "outputs": [
    {
     "name": "stdout",
     "output_type": "stream",
     "text": [
      "deferred_acceptance: one-to-one: Error During Test\n",
      "  Got an exception of type MethodError outside of a @test\n",
      "  MethodError: `deferred_acceptance` has no method matching deferred_acceptance(::Array{Int64,2}, ::Array{Int64,2})\n",
      "  Closest candidates are:\n",
      "    deferred_acceptance(::Any, ::Any, !Matched::Any)\n",
      "   [inlined code] from C:\\Users\\聡\\Documents\\matching2.jl\\test_deferred_acceptance.jl:37\n",
      "   in anonymous at no file:0\n",
      "   in include at boot.jl:261\n",
      "   in include_from_node1 at loading.jl:320\n",
      "   in include_string at loading.jl:282\n",
      "   in execute_request_0x535c5df2 at C:\\Users\\聡\\.julia\\v0.4\\IJulia\\src\\execute_request.jl:182\n",
      "   in eventloop at C:\\Users\\聡\\.julia\\v0.4\\IJulia\\src\\IJulia.jl:142\n",
      "   in anonymous at task.jl:447\n",
      "deferred_acceptance: many-to-one with caps 1: Error During Test\n",
      "  Got an exception of type BoundsError outside of a @test\n",
      "  BoundsError: attempt to access 1-element Array{Int64,1}:\n",
      "   3\n",
      "    at index [3]\n",
      "   in setindex! at array.jl:313\n",
      "   in deferred_acceptance at C:\\Users\\聡\\Documents\\matching2.jl\\deferred_acceptance.jl:37\n",
      "   [inlined code] from C:\\Users\\聡\\Documents\\matching2.jl\\test_deferred_acceptance.jl:69\n",
      "   in anonymous at no file:0\n",
      "   in include at boot.jl:261\n",
      "   in include_from_node1 at loading.jl:320\n",
      "   in include_string at loading.jl:282\n",
      "   in execute_request_0x535c5df2 at C:\\Users\\聡\\.julia\\v0.4\\IJulia\\src\\execute_request.jl:182\n",
      "   in eventloop at C:\\Users\\聡\\.julia\\v0.4\\IJulia\\src\\IJulia.jl:142\n",
      "   in anonymous at task.jl:447\n",
      "deferred_acceptance: many-to-one: Error During Test\n",
      "  Got an exception of type BoundsError outside of a @test\n",
      "  BoundsError: attempt to access 2-element Array{Int64,1}:\n",
      "   3\n",
      "   6\n",
      "    at index [6]\n",
      "   in setindex! at array.jl:313\n",
      "   in deferred_acceptance at C:\\Users\\聡\\Documents\\matching2.jl\\deferred_acceptance.jl:37\n",
      "   [inlined code] from C:\\Users\\聡\\Documents\\matching2.jl\\test_deferred_acceptance.jl:115\n",
      "   in anonymous at no file:0\n",
      "   in include at boot.jl:261\n",
      "   in include_from_node1 at loading.jl:320\n",
      "   in include_string at loading.jl:282\n",
      "   in execute_request_0x535c5df2 at C:\\Users\\聡\\.julia\\v0.4\\IJulia\\src\\execute_request.jl:182\n",
      "   in eventloop at C:\\Users\\聡\\.julia\\v0.4\\IJulia\\src\\IJulia.jl:142\n",
      "   in anonymous at task.jl:447\n",
      "Test Summary:                                  | Error  Total\n",
      "Testing deferred_acceptance.jl                 |     3      3\n",
      "  deferred_acceptance: one-to-one              |     1      1\n",
      "  deferred_acceptance: many-to-one with caps 1 |     1      1\n",
      "  deferred_acceptance: many-to-one             |     1      1\n"
     ]
    },
    {
     "ename": "LoadError",
     "evalue": "LoadError: LoadError: Some tests did not pass: 0 passed, 0 failed, 3 errored.\nwhile loading C:\\Users\\聡\\Documents\\matching2.jl\\test_deferred_acceptance.jl, in expression starting on line 17\nwhile loading In[11], in expression starting on line 1",
     "output_type": "error",
     "traceback": [
      "LoadError: LoadError: Some tests did not pass: 0 passed, 0 failed, 3 errored.\nwhile loading C:\\Users\\聡\\Documents\\matching2.jl\\test_deferred_acceptance.jl, in expression starting on line 17\nwhile loading In[11], in expression starting on line 1",
      "",
      " in finish at C:\\Users\\聡\\.julia\\v0.4\\BaseTestNext\\src\\BaseTestNext.jl:385",
      " [inlined code] from C:\\Users\\聡\\.julia\\v0.4\\BaseTestNext\\src\\BaseTestNext.jl:559",
      " in anonymous at no file:0",
      " in include at boot.jl:261",
      " in include_from_node1 at loading.jl:320"
     ]
    }
   ],
   "source": [
    "include(\"test_deferred_acceptance.jl\")"
   ]
  },
  {
   "cell_type": "code",
   "execution_count": null,
   "metadata": {
    "collapsed": true
   },
   "outputs": [],
   "source": []
  }
 ],
 "metadata": {
  "kernelspec": {
   "display_name": "Julia 0.4.5",
   "language": "julia",
   "name": "julia-0.4"
  },
  "language_info": {
   "file_extension": ".jl",
   "mimetype": "application/julia",
   "name": "julia",
   "version": "0.4.5"
  }
 },
 "nbformat": 4,
 "nbformat_minor": 0
}
